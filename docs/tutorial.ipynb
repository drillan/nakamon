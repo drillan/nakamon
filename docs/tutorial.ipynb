{
 "cells": [
  {
   "cell_type": "markdown",
   "metadata": {},
   "source": [
    "# なかモンダメージシミュレータ\n",
    "\n",
    "## インストール\n",
    "\n",
    "```\n",
    "pip install nakamon\n",
    "```"
   ]
  },
  {
   "cell_type": "code",
   "execution_count": null,
   "metadata": {},
   "outputs": [],
   "source": [
    "!pip install nakamon"
   ]
  },
  {
   "cell_type": "markdown",
   "metadata": {},
   "source": [
    "## 使い方\n",
    "\n",
    "### `Nakamon` クラス\n",
    "\n",
    "`Nakamon` クラスは仲間モンスターのステータスを格納するクラスです。\n",
    "\n",
    "- name: モンスタ名\n",
    "- seikaku: 性格\n",
    "- soshitsu: 素質\n",
    "- skill: 成長、継承玉（省略可）"
   ]
  },
  {
   "cell_type": "code",
   "execution_count": 1,
   "metadata": {},
   "outputs": [],
   "source": [
    "from nakamon import Nakamon\n",
    "\n",
    "player = Nakamon(\"スライム\", \"いっぴきおおかみ\", \"極\")"
   ]
  },
  {
   "cell_type": "markdown",
   "metadata": {},
   "source": [
    "`status` 属性にアクセスすると、HPなどのステータスが参照できます"
   ]
  },
  {
   "cell_type": "code",
   "execution_count": 2,
   "metadata": {},
   "outputs": [
    {
     "data": {
      "text/plain": [
       "図鑑No           4\n",
       "名前          スライム\n",
       "系統         スライム系\n",
       "紫卵         5000歩\n",
       "特性          電光石火\n",
       "性格      いっぴきおおかみ\n",
       "素質             極\n",
       "HP           861\n",
       "MP           283\n",
       "攻            612\n",
       "守            431\n",
       "素早           630\n",
       "攻魔           152\n",
       "回魔           112\n",
       "器用           548\n",
       "Name: 2985, dtype: object"
      ]
     },
     "execution_count": 2,
     "metadata": {},
     "output_type": "execute_result"
    }
   ],
   "source": [
    "player.status"
   ]
  },
  {
   "cell_type": "markdown",
   "metadata": {},
   "source": [
    "`damage` 属性にアクセスすると、与ダメージの補正値を参照できます"
   ]
  },
  {
   "cell_type": "code",
   "execution_count": 3,
   "metadata": {},
   "outputs": [
    {
     "data": {
      "text/plain": [
       "メラ・斬体       0.0\n",
       "ギラ・斬体       0.0\n",
       "デイン・斬体      0.0\n",
       "イオ・斬体       0.0\n",
       "ヒャド・斬体      0.0\n",
       "バギ・斬体       0.0\n",
       "ドルマ・斬体      0.0\n",
       "ジバリア・斬体     0.0\n",
       "メラ・呪文       0.0\n",
       "ギラ・呪文       0.0\n",
       "デイン・呪文      0.0\n",
       "イオ・呪文       0.0\n",
       "ヒャド・呪文      0.0\n",
       "バギ・呪文       0.0\n",
       "ドルマ・呪文      0.0\n",
       "ジバリア・呪文     0.0\n",
       "メラ・ブレス      0.0\n",
       "ギラ・ブレス      0.0\n",
       "デイン・ブレス     0.0\n",
       "イオ・ブレス      0.0\n",
       "ヒャド・ブレス     0.0\n",
       "バギ・ブレス      0.0\n",
       "ドルマ・ブレス     0.0\n",
       "ジバリア・ブレス    0.0\n",
       "メラ・全        0.0\n",
       "ギラ・全        0.0\n",
       "デイン・全       0.0\n",
       "イオ・全        0.0\n",
       "ヒャド・全       0.0\n",
       "バギ・全        0.0\n",
       "ドルマ・全       0.0\n",
       "ジバリア・全      0.0\n",
       "撃・けもの系      0.0\n",
       "撃・鳥系        0.0\n",
       "撃・物質系       0.0\n",
       "撃・マシン系      0.0\n",
       "撃・水系        0.0\n",
       "撃・スライム系     0.0\n",
       "撃・ゾンビ系      0.0\n",
       "撃・悪魔系       0.0\n",
       "撃・ドラゴン系     0.0\n",
       "撃・怪人系       0.0\n",
       "撃・植物系       0.0\n",
       "撃・虫系        0.0\n",
       "撃・⁇⁇系       0.0\n",
       "dtype: float64"
      ]
     },
     "execution_count": 3,
     "metadata": {},
     "output_type": "execute_result"
    }
   ],
   "source": [
    "player.damage"
   ]
  },
  {
   "cell_type": "markdown",
   "metadata": {},
   "source": [
    "`resistance` 属性にアクセスすると、耐性の補正値を参照できます"
   ]
  },
  {
   "cell_type": "code",
   "execution_count": 4,
   "metadata": {},
   "outputs": [
    {
     "data": {
      "text/plain": [
       "耐・メラ       -0.50\n",
       "耐・ギラ        0.00\n",
       "耐・デイン       0.50\n",
       "耐・イオ        0.25\n",
       "耐・ヒャド      -0.25\n",
       "耐・バギ        0.25\n",
       "耐・ドルマ      -0.25\n",
       "耐・ジバリア      0.00\n",
       "耐・斬撃        0.00\n",
       "耐・ブレス       0.00\n",
       "耐・けもの系      0.00\n",
       "耐・鳥系        0.00\n",
       "耐・植物系       0.00\n",
       "耐・虫系        0.00\n",
       "耐・マシン系      0.00\n",
       "耐・エレメント系    0.00\n",
       "耐・スライム系     0.00\n",
       "耐・悪魔系       0.00\n",
       "耐・眠り        0.00\n",
       "耐・麻痺        0.00\n",
       "耐・混乱        0.00\n",
       "耐・幻惑        0.00\n",
       "耐・毒         0.00\n",
       "耐・即死        0.00\n",
       "耐・呪い        0.00\n",
       "耐・休み        0.00\n",
       "耐・魅了        0.00\n",
       "耐・攻撃減       0.00\n",
       "耐・守備減       0.00\n",
       "耐・封印        0.00\n",
       "耐・水系        0.00\n",
       "耐・すばやさ減     0.00\n",
       "耐・じゅもん      0.00\n",
       "耐・怪人系       0.00\n",
       "耐・踊り        0.00\n",
       "耐・怯え        0.00\n",
       "耐・吸収        0.00\n",
       "耐・ゾンビ系      0.00\n",
       "耐・ドラゴン系     0.00\n",
       "耐・物質系       0.00\n",
       "耐・体技        0.00\n",
       "耐・⁇⁇系       0.00\n",
       "dtype: float64"
      ]
     },
     "execution_count": 4,
     "metadata": {},
     "output_type": "execute_result"
    }
   ],
   "source": [
    "player.resistance"
   ]
  },
  {
   "cell_type": "markdown",
   "metadata": {},
   "source": [
    "`data` 属性にアクセスすると、すべてのステータスを参照できます"
   ]
  },
  {
   "cell_type": "code",
   "execution_count": 5,
   "metadata": {},
   "outputs": [
    {
     "data": {
      "text/html": [
       "<div>\n",
       "<style scoped>\n",
       "    .dataframe tbody tr th:only-of-type {\n",
       "        vertical-align: middle;\n",
       "    }\n",
       "\n",
       "    .dataframe tbody tr th {\n",
       "        vertical-align: top;\n",
       "    }\n",
       "\n",
       "    .dataframe thead th {\n",
       "        text-align: right;\n",
       "    }\n",
       "</style>\n",
       "<table border=\"1\" class=\"dataframe\">\n",
       "  <thead>\n",
       "    <tr style=\"text-align: right;\">\n",
       "      <th></th>\n",
       "      <th>図鑑No</th>\n",
       "      <th>名前</th>\n",
       "      <th>系統</th>\n",
       "      <th>紫卵</th>\n",
       "      <th>特性</th>\n",
       "      <th>性格</th>\n",
       "      <th>素質</th>\n",
       "      <th>HP</th>\n",
       "      <th>MP</th>\n",
       "      <th>攻</th>\n",
       "      <th>...</th>\n",
       "      <th>耐・じゅもん</th>\n",
       "      <th>耐・怪人系</th>\n",
       "      <th>耐・踊り</th>\n",
       "      <th>耐・怯え</th>\n",
       "      <th>耐・吸収</th>\n",
       "      <th>耐・ゾンビ系</th>\n",
       "      <th>耐・ドラゴン系</th>\n",
       "      <th>耐・物質系</th>\n",
       "      <th>耐・体技</th>\n",
       "      <th>耐・⁇⁇系</th>\n",
       "    </tr>\n",
       "  </thead>\n",
       "  <tbody>\n",
       "    <tr>\n",
       "      <th>0</th>\n",
       "      <td>4</td>\n",
       "      <td>スライム</td>\n",
       "      <td>スライム系</td>\n",
       "      <td>5000歩</td>\n",
       "      <td>電光石火</td>\n",
       "      <td>いっぴきおおかみ</td>\n",
       "      <td>極</td>\n",
       "      <td>861.0</td>\n",
       "      <td>283.0</td>\n",
       "      <td>612.0</td>\n",
       "      <td>...</td>\n",
       "      <td>0.0</td>\n",
       "      <td>0.0</td>\n",
       "      <td>0.0</td>\n",
       "      <td>0.0</td>\n",
       "      <td>0.0</td>\n",
       "      <td>0.0</td>\n",
       "      <td>0.0</td>\n",
       "      <td>0.0</td>\n",
       "      <td>0.0</td>\n",
       "      <td>0.0</td>\n",
       "    </tr>\n",
       "  </tbody>\n",
       "</table>\n",
       "<p>1 rows × 102 columns</p>\n",
       "</div>"
      ],
      "text/plain": [
       "  図鑑No    名前     系統     紫卵    特性        性格 素質     HP     MP      攻  ...  \\\n",
       "0    4  スライム  スライム系  5000歩  電光石火  いっぴきおおかみ  極  861.0  283.0  612.0  ...   \n",
       "\n",
       "   耐・じゅもん  耐・怪人系  耐・踊り  耐・怯え  耐・吸収  耐・ゾンビ系  耐・ドラゴン系  耐・物質系  耐・体技  耐・⁇⁇系  \n",
       "0     0.0    0.0   0.0   0.0   0.0     0.0      0.0    0.0   0.0    0.0  \n",
       "\n",
       "[1 rows x 102 columns]"
      ]
     },
     "execution_count": 5,
     "metadata": {},
     "output_type": "execute_result"
    }
   ],
   "source": [
    "player.data"
   ]
  },
  {
   "cell_type": "markdown",
   "metadata": {},
   "source": [
    "### 成長・継承玉（スキル）\n",
    "\n",
    "成長や継承玉（スキル）を追加する場合は、 `Nakamon` クラスの引数 `skill` にリストで渡します。追加できるスキルは赤（ステータス）または水色（耐性）の2つです。追加するスキル数の上限はありません。"
   ]
  },
  {
   "cell_type": "code",
   "execution_count": 6,
   "metadata": {},
   "outputs": [],
   "source": [
    "player = Nakamon(\"スライム\", \"いっぴきおおかみ\", \"極\", [\"さいだいHP:S\", \"しゅび力:S\"])"
   ]
  },
  {
   "cell_type": "markdown",
   "metadata": {},
   "source": [
    "`skills` 属性にアクセスすると、追加したスキルを確認できます。"
   ]
  },
  {
   "cell_type": "code",
   "execution_count": 7,
   "metadata": {},
   "outputs": [
    {
     "data": {
      "text/plain": [
       "['さいだいHP:S', 'しゅび力:S']"
      ]
     },
     "execution_count": 7,
     "metadata": {},
     "output_type": "execute_result"
    }
   ],
   "source": [
    "player.skills"
   ]
  },
  {
   "cell_type": "markdown",
   "metadata": {},
   "source": [
    "スキルを追加するとステータスが変化します。"
   ]
  },
  {
   "cell_type": "code",
   "execution_count": 8,
   "metadata": {},
   "outputs": [
    {
     "data": {
      "text/plain": [
       "図鑑No           4\n",
       "名前          スライム\n",
       "系統         スライム系\n",
       "紫卵         5000歩\n",
       "特性          電光石火\n",
       "性格      いっぴきおおかみ\n",
       "素質             極\n",
       "HP         931.0\n",
       "MP           283\n",
       "攻            612\n",
       "守          481.0\n",
       "素早           630\n",
       "攻魔           152\n",
       "回魔           112\n",
       "器用           548\n",
       "Name: 2985, dtype: object"
      ]
     },
     "execution_count": 8,
     "metadata": {},
     "output_type": "execute_result"
    }
   ],
   "source": [
    "player.status"
   ]
  },
  {
   "cell_type": "markdown",
   "metadata": {},
   "source": [
    "スキルを追加する場合は `add_skill` メソッドを実行します。"
   ]
  },
  {
   "cell_type": "code",
   "execution_count": 9,
   "metadata": {},
   "outputs": [],
   "source": [
    "player = Nakamon(\"スライム\", \"いっぴきおおかみ\", \"極\")"
   ]
  },
  {
   "cell_type": "code",
   "execution_count": 10,
   "metadata": {},
   "outputs": [
    {
     "data": {
      "text/plain": [
       "['さいだいHP:S', 'しゅび力']"
      ]
     },
     "execution_count": 10,
     "metadata": {},
     "output_type": "execute_result"
    }
   ],
   "source": [
    "player.add_skill([\"さいだいHP:S\", \"しゅび力\"])\n",
    "player.skills"
   ]
  },
  {
   "cell_type": "code",
   "execution_count": 11,
   "metadata": {},
   "outputs": [
    {
     "data": {
      "text/plain": [
       "図鑑No           4\n",
       "名前          スライム\n",
       "系統         スライム系\n",
       "紫卵         5000歩\n",
       "特性          電光石火\n",
       "性格      いっぴきおおかみ\n",
       "素質             極\n",
       "HP         931.0\n",
       "MP           283\n",
       "攻            612\n",
       "守            431\n",
       "素早           630\n",
       "攻魔           152\n",
       "回魔           112\n",
       "器用           548\n",
       "Name: 2985, dtype: object"
      ]
     },
     "execution_count": 11,
     "metadata": {},
     "output_type": "execute_result"
    }
   ],
   "source": [
    "player.status"
   ]
  },
  {
   "cell_type": "markdown",
   "metadata": {},
   "source": [
    "## ダメージ計算\n",
    "\n",
    "`calculate_damage` 関数を実行するとスキルの与ダメージを計算します。\n",
    "\n",
    "- skill_name: スキル名\n",
    "- player: 攻撃を与える側の `Nakamon` インスタンス\n",
    "- enemy: 攻撃を受ける側の `Nakamon` インスタンス"
   ]
  },
  {
   "cell_type": "code",
   "execution_count": 12,
   "metadata": {},
   "outputs": [
    {
     "data": {
      "text/plain": [
       "324.0"
      ]
     },
     "execution_count": 12,
     "metadata": {},
     "output_type": "execute_result"
    }
   ],
   "source": [
    "from nakamon.damage import calculate_damage\n",
    "\n",
    "enemy = Nakamon(\"ドラキー\", \"ぬけめがない\", \"優\")\n",
    "calculate_damage(\"セイントインパクト\", player, enemy)"
   ]
  }
 ],
 "metadata": {
  "kernelspec": {
   "display_name": ".venv",
   "language": "python",
   "name": "python3"
  },
  "language_info": {
   "codemirror_mode": {
    "name": "ipython",
    "version": 3
   },
   "file_extension": ".py",
   "mimetype": "text/x-python",
   "name": "python",
   "nbconvert_exporter": "python",
   "pygments_lexer": "ipython3",
   "version": "3.11.8"
  }
 },
 "nbformat": 4,
 "nbformat_minor": 2
}
